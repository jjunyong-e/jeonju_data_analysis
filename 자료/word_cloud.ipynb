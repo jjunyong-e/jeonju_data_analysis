{
 "cells": [
  {
   "cell_type": "code",
   "execution_count": 19,
   "metadata": {
    "ExecuteTime": {
     "end_time": "2021-04-09T08:28:48.116195Z",
     "start_time": "2021-04-09T08:28:48.112710Z"
    }
   },
   "outputs": [],
   "source": [
    "import pandas as pd\n",
    "import sys\n",
    "import pytagcloud\n",
    "import random\n",
    "import matplotlib.pyplot as plt\n",
    "from collections import Counter\n",
    "import webbrowser\n",
    "import re\n",
    "import pygame\n",
    "from konlpy.tag import Mecab\n",
    "# 필요 모듈 임포트"
   ]
  },
  {
   "cell_type": "code",
   "execution_count": 20,
   "metadata": {
    "ExecuteTime": {
     "end_time": "2021-04-09T08:28:49.077350Z",
     "start_time": "2021-04-09T08:28:49.074571Z"
    }
   },
   "outputs": [],
   "source": [
    "r = lambda : random.randint(0,255)\n",
    "color = lambda : (r(), r(), r())\n",
    "# 워드 클라우드 만들때 글자 색깔은 rgb값으로 설정~\n",
    "name = \"전주 노후화\""
   ]
  },
  {
   "cell_type": "code",
   "execution_count": 21,
   "metadata": {
    "ExecuteTime": {
     "end_time": "2021-04-09T08:28:49.770149Z",
     "start_time": "2021-04-09T08:28:49.735182Z"
    }
   },
   "outputs": [],
   "source": [
    "# csv 파일에서 txt파일로 변환\n",
    "\n",
    "data = pd.read_csv(f'/Users/thwnsdyd/Desktop/jeonju_data_analysis/자료/{name}.csv')\n",
    "# 경로:  원하는 파일 경로 설정 하기\n",
    "title= data['title']\n",
    "\n",
    "with open (f'{name}.txt','w',encoding='utf-8-sig') as f:\n",
    "    # csv 파일명 : @.csv ==> @.txt\n",
    "    for t in title:\n",
    "        t= re.sub('\\d',' ',t)\n",
    "        # 숫자 제거\n",
    "        t = re.sub('\\W',' ',t)\n",
    "        f.write(t+ ' ')"
   ]
  },
  {
   "cell_type": "code",
   "execution_count": 22,
   "metadata": {
    "ExecuteTime": {
     "end_time": "2021-04-09T08:28:50.872099Z",
     "start_time": "2021-04-09T08:28:50.867829Z"
    }
   },
   "outputs": [],
   "source": [
    "def draw_cloud(tags, filename, fontname='Noto Sans CJK', size=(8000, 6000)):\n",
    "    pytagcloud.create_tag_image(tags, filename, fontname=fontname, size=size)\n",
    "    webbrowser.open(filename)"
   ]
  },
  {
   "cell_type": "code",
   "execution_count": 23,
   "metadata": {
    "ExecuteTime": {
     "end_time": "2021-04-09T08:32:15.358201Z",
     "start_time": "2021-04-09T08:32:15.354536Z"
    }
   },
   "outputs": [],
   "source": [
    "text = open(f'/Users/thwnsdyd/Desktop/jeonju_data_analysis/자료/{name}.txt','r')\n",
    "# txt 파일 로 저장한것을 읽어온다\n"
   ]
  },
  {
   "cell_type": "code",
   "execution_count": 24,
   "metadata": {
    "ExecuteTime": {
     "end_time": "2021-04-09T08:32:16.440509Z",
     "start_time": "2021-04-09T08:32:16.426295Z"
    },
    "code_folding": [],
    "tags": []
   },
   "outputs": [],
   "source": [
    "String = ''\n",
    "for i in text.read():\n",
    "    String += i\n",
    "    "
   ]
  },
  {
   "cell_type": "code",
   "execution_count": 25,
   "metadata": {
    "ExecuteTime": {
     "end_time": "2021-04-09T08:31:17.601232Z",
     "start_time": "2021-04-09T08:31:17.596317Z"
    }
   },
   "outputs": [],
   "source": [
    "tags = get_tags(String)"
   ]
  },
  {
   "cell_type": "code",
   "execution_count": 26,
   "metadata": {},
   "outputs": [],
   "source": [
    "draw_cloud(tags, f'{name}.png')"
   ]
  },
  {
   "cell_type": "code",
   "execution_count": 27,
   "metadata": {},
   "outputs": [],
   "source": [
    "f.close()"
   ]
  }
 ],
 "metadata": {
  "kernelspec": {
   "name": "python388jvsc74a57bd00722516900a6d2f57b492c5b1273657c2b8d619a0190f516968f9f4ff7df3f4c",
   "display_name": "Python 3.8.8 64-bit ('base': conda)"
  },
  "language_info": {
   "codemirror_mode": {
    "name": "ipython",
    "version": 3
   },
   "file_extension": ".py",
   "mimetype": "text/x-python",
   "name": "python",
   "nbconvert_exporter": "python",
   "pygments_lexer": "ipython3",
   "version": "3.8.8-final"
  },
  "varInspector": {
   "cols": {
    "lenName": 16,
    "lenType": 16,
    "lenVar": 40
   },
   "kernels_config": {
    "python": {
     "delete_cmd_postfix": "",
     "delete_cmd_prefix": "del ",
     "library": "var_list.py",
     "varRefreshCmd": "print(var_dic_list())"
    },
    "r": {
     "delete_cmd_postfix": ") ",
     "delete_cmd_prefix": "rm(",
     "library": "var_list.r",
     "varRefreshCmd": "cat(var_dic_list()) "
    }
   },
   "types_to_exclude": [
    "module",
    "function",
    "builtin_function_or_method",
    "instance",
    "_Feature"
   ],
   "window_display": false
  }
 },
 "nbformat": 4,
 "nbformat_minor": 2
}